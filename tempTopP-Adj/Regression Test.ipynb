{
 "cells": [
  {
   "cell_type": "code",
   "execution_count": 1,
   "id": "49823b54",
   "metadata": {},
   "outputs": [
    {
     "name": "stderr",
     "output_type": "stream",
     "text": [
      "C:\\Users\\kevin\\anaconda3\\envs\\research\\lib\\site-packages\\tqdm\\auto.py:21: TqdmWarning: IProgress not found. Please update jupyter and ipywidgets. See https://ipywidgets.readthedocs.io/en/stable/user_install.html\n",
      "  from .autonotebook import tqdm as notebook_tqdm\n"
     ]
    }
   ],
   "source": [
    "from sentence_transformers import SentenceTransformer\n",
    "import pandas as pd\n",
    "import numpy as np\n",
    "import matplotlib.pyplot as plt\n",
    "from sklearn.model_selection import train_test_split\n",
    "from sklearn.linear_model import LogisticRegression\n",
    "from sklearn.metrics import classification_report\n",
    "from sklearn.metrics import confusion_matrix, roc_curve, auc, RocCurveDisplay\n",
    "from sklearn.model_selection import cross_validate, StratifiedKFold\n",
    "from sklearn.decomposition import PCA"
   ]
  },
  {
   "cell_type": "code",
   "execution_count": 22,
   "id": "498ea684",
   "metadata": {},
   "outputs": [],
   "source": [
    "model = SentenceTransformer('all-MiniLM-L6-v2')"
   ]
  },
  {
   "cell_type": "markdown",
   "id": "e127bbc1",
   "metadata": {},
   "source": [
    "## Milk Froth"
   ]
  },
  {
   "cell_type": "code",
   "execution_count": 23,
   "id": "50558cf9",
   "metadata": {},
   "outputs": [],
   "source": [
    "csv_files = 'data/ablation_topic_froth.csv'"
   ]
  },
  {
   "cell_type": "code",
   "execution_count": 24,
   "id": "c9945757",
   "metadata": {},
   "outputs": [],
   "source": [
    "df = pd.read_csv(csv_files)"
   ]
  },
  {
   "cell_type": "code",
   "execution_count": 25,
   "id": "d792c1b7",
   "metadata": {},
   "outputs": [],
   "source": [
    "# Define the columns for LLM-generated and human-generated\n",
    "llm_columns = ['zero-shot', 'few-shot', 'novel', 'unique', 'creative', 'critique-critique', 'design-expert', 'farfetched']\n",
    "human_columns = ['human-1', 'human-2']"
   ]
  },
  {
   "cell_type": "code",
   "execution_count": 26,
   "id": "1e273aee",
   "metadata": {},
   "outputs": [],
   "source": [
    "new_rows = []\n",
    "for index, row in df.iterrows():\n",
    "    for col in llm_columns:\n",
    "        new_rows.append({'Type': 'LLM-Generated', 'Value': row[col]})\n",
    "    \n",
    "    for col in human_columns:\n",
    "        new_rows.append({'Type': 'human-generated', 'Value': row[col]})\n",
    "    \n",
    "new_df = pd.DataFrame(new_rows)"
   ]
  },
  {
   "cell_type": "code",
   "execution_count": 27,
   "id": "ff5b4aa2",
   "metadata": {},
   "outputs": [
    {
     "data": {
      "text/plain": [
       "LLM-Generated      400\n",
       "human-generated    100\n",
       "Name: Type, dtype: int64"
      ]
     },
     "execution_count": 27,
     "metadata": {},
     "output_type": "execute_result"
    }
   ],
   "source": [
    "new_df['Type'].value_counts()"
   ]
  },
  {
   "cell_type": "code",
   "execution_count": 28,
   "id": "f2dd382f",
   "metadata": {},
   "outputs": [],
   "source": [
    "model = SentenceTransformer('all-MiniLM-L6-v2')"
   ]
  },
  {
   "cell_type": "code",
   "execution_count": 29,
   "id": "7601bbf5",
   "metadata": {},
   "outputs": [],
   "source": [
    "# Encode the 'Value' column text data into embeddings\n",
    "embeddings = model.encode(new_df['Value'].astype('str').tolist())"
   ]
  },
  {
   "cell_type": "code",
   "execution_count": 30,
   "id": "52f89529",
   "metadata": {},
   "outputs": [
    {
     "data": {
      "text/plain": [
       "(500, 384)"
      ]
     },
     "execution_count": 30,
     "metadata": {},
     "output_type": "execute_result"
    }
   ],
   "source": [
    "embeddings.shape"
   ]
  },
  {
   "cell_type": "code",
   "execution_count": 34,
   "id": "735c8cd6",
   "metadata": {},
   "outputs": [],
   "source": [
    "# Convert 'Type' into a binary target variable\n",
    "# LLM-Generated -> 0 & Human-Generated -> 1\n",
    "new_df['Target'] = new_df['Type'].map({'LLM-Generated': 0, 'human-generated': 1})"
   ]
  },
  {
   "cell_type": "code",
   "execution_count": 35,
   "id": "a02d7856",
   "metadata": {},
   "outputs": [
    {
     "name": "stdout",
     "output_type": "stream",
     "text": [
      "              precision    recall  f1-score   support\n",
      "\n",
      "           0       0.97      1.00      0.98        84\n",
      "           1       1.00      0.81      0.90        16\n",
      "\n",
      "    accuracy                           0.97       100\n",
      "   macro avg       0.98      0.91      0.94       100\n",
      "weighted avg       0.97      0.97      0.97       100\n",
      "\n"
     ]
    }
   ],
   "source": [
    "# Split the data into training and testing sets\n",
    "X_train, X_test, y_train, y_test = train_test_split(embeddings, new_df['Target'], test_size=0.2, random_state=42)\n",
    "\n",
    "# Initialize and train the logistic regression model\n",
    "lr_model = LogisticRegression(max_iter=1000)\n",
    "lr_model.fit(X_train, y_train)\n",
    "\n",
    "# Make predictions on the test set\n",
    "predictions = lr_model.predict(X_test)\n",
    "\n",
    "# Evaluate the model\n",
    "print(classification_report(y_test, predictions))"
   ]
  },
  {
   "cell_type": "markdown",
   "id": "6caba585",
   "metadata": {},
   "source": [
    "**Classification Metrics**: The performance metrics from the `classification_report` such as accuracy, precision, recall (sensitivity), and F1-score give us a quantitative measure of how well the model is distinguishing between the two classes. High values (close to 1) indicate good separability.\n",
    "\n",
    "**Confusion Matrix**: This shows the number of true positives, true negatives, false positives, and false negatives. A model that perfectly linearly separates the data will have non-zero values only on the diagonal (true positives and true negatives). Note: [[TP, FP] [FN, TN]]. An additional note, since we define 'human-generated' as the positive class (1), then a false positive means the model incorrectly predicted a piece of text to be 'human-generated' when it was actually 'LLM-generated'. Likewise, since we define 'LLM-generated' as the negative class (0), a false negative means the model incorrectly predicted a piece of text to be 'LLM-generated' when it was actually 'human-generated'.\n",
    "\n",
    "**ROC Curve and AUC**: The Receiver Operating Characteristic (ROC) curve and the Area Under the Curve (AUC) illustrates the performance of our binary classifier model. An AUC close to 1 generally indicates near perfect separability."
   ]
  },
  {
   "cell_type": "code",
   "execution_count": 36,
   "id": "70913fbc",
   "metadata": {},
   "outputs": [
    {
     "name": "stdout",
     "output_type": "stream",
     "text": [
      "Confusion Matrix:\n",
      " [[84  0]\n",
      " [ 3 13]]\n"
     ]
    },
    {
     "data": {
      "image/png": "[encoded data removed]",
      "text/plain": [
       "<Figure size 640x480 with 1 Axes>"
      ]
     },
     "metadata": {},
     "output_type": "display_data"
    }
   ],
   "source": [
    "# Confusion Matrix\n",
    "\n",
    "conf_matrix = confusion_matrix(y_test, predictions)\n",
    "print(\"Confusion Matrix:\\n\", conf_matrix)\n",
    "\n",
    "# ROC Curve and AUC\n",
    "fpr, tpr, thresholds = roc_curve(y_test, lr_model.predict_proba(X_test)[:,1])\n",
    "roc_auc = auc(fpr, tpr)\n",
    "\n",
    "# Plot ROC Curve\n",
    "plt.figure()\n",
    "lw = 2\n",
    "plt.plot(fpr, tpr, color='darkorange', lw=lw, label='ROC curve (area = %0.2f)' % roc_auc)\n",
    "plt.plot([0, 1], [0, 1], color='navy', lw=lw, linestyle='--')\n",
    "plt.xlim([0.0, 1.0])\n",
    "plt.ylim([0.0, 1.05])\n",
    "plt.xlabel('False Positive Rate')\n",
    "plt.ylabel('True Positive Rate')\n",
    "plt.title('Receiver Operating Characteristic')\n",
    "plt.legend(loc=\"lower right\")\n",
    "plt.show()"
   ]
  },
  {
   "cell_type": "markdown",
   "id": "8dd2f626",
   "metadata": {},
   "source": [
    "## Exercise Device"
   ]
  },
  {
   "cell_type": "code",
   "execution_count": 31,
   "id": "68e04d48",
   "metadata": {},
   "outputs": [],
   "source": [
    "csv_files = 'data/ablation_topic_exercise.csv'\n",
    "\n",
    "df = pd.read_csv(csv_files)\n",
    "\n",
    "# Define the columns for LLM-generated and human-generated\n",
    "llm_columns = ['zero-shot', 'few-shot', 'novel', 'unique', 'creative', 'critique-critique', 'design-expert', 'farfetched']\n",
    "human_columns = ['human-1', 'human-2']\n",
    "\n",
    "new_rows = []\n",
    "for index, row in df.iterrows():\n",
    "    for col in llm_columns:\n",
    "        new_rows.append({'Type': 'LLM-Generated', 'Value': row[col]})\n",
    "    \n",
    "    for col in human_columns:\n",
    "        new_rows.append({'Type': 'human-generated', 'Value': row[col]})\n",
    "    \n",
    "new_df = pd.DataFrame(new_rows)"
   ]
  },
  {
   "cell_type": "code",
   "execution_count": 33,
   "id": "1d15e1cd",
   "metadata": {},
   "outputs": [
    {
     "name": "stdout",
     "output_type": "stream",
     "text": [
      "              precision    recall  f1-score   support\n",
      "\n",
      "           0       0.87      1.00      0.93        80\n",
      "           1       1.00      0.45      0.62        22\n",
      "\n",
      "    accuracy                           0.88       102\n",
      "   macro avg       0.93      0.73      0.78       102\n",
      "weighted avg       0.90      0.88      0.86       102\n",
      "\n"
     ]
    }
   ],
   "source": [
    "model = SentenceTransformer('all-MiniLM-L6-v2')\n",
    "\n",
    "# Encode the 'Value' column text data into embeddings\n",
    "embeddings = model.encode(new_df['Value'].astype('str').tolist())\n",
    "\n",
    "# Convert 'Type' into a binary target variable\n",
    "# LLM-Generated -> 0 & Human-Generated -> 1\n",
    "new_df['Target'] = new_df['Type'].map({'LLM-Generated': 0, 'human-generated': 1})\n",
    "\n",
    "# Split the data into training and testing sets\n",
    "X_train, X_test, y_train, y_test = train_test_split(embeddings, new_df['Target'], test_size=0.2, random_state=42)\n",
    "\n",
    "# Initialize and train the logistic regression model\n",
    "lr_model = LogisticRegression(max_iter=1000)\n",
    "lr_model.fit(X_train, y_train)\n",
    "\n",
    "# Make predictions on the test set\n",
    "predictions = lr_model.predict(X_test)\n",
    "\n",
    "# Evaluate the model\n",
    "print(classification_report(y_test, predictions))"
   ]
  },
  {
   "cell_type": "code",
   "execution_count": 34,
   "id": "cb13ca2e",
   "metadata": {},
   "outputs": [
    {
     "name": "stdout",
     "output_type": "stream",
     "text": [
      "Confusion Matrix:\n",
      " [[80  0]\n",
      " [12 10]]\n"
     ]
    },
    {
     "data": {
      "image/png": "[encoded data removed]",
      "text/plain": [
       "<Figure size 640x480 with 1 Axes>"
      ]
     },
     "metadata": {},
     "output_type": "display_data"
    }
   ],
   "source": [
    "# Confusion Matrix\n",
    "conf_matrix = confusion_matrix(y_test, predictions)\n",
    "print(\"Confusion Matrix:\\n\", conf_matrix)\n",
    "\n",
    "# ROC Curve and AUC\n",
    "fpr, tpr, thresholds = roc_curve(y_test, lr_model.predict_proba(X_test)[:,1])\n",
    "roc_auc = auc(fpr, tpr)\n",
    "\n",
    "# Plot ROC Curve\n",
    "plt.figure()\n",
    "lw = 2\n",
    "plt.plot(fpr, tpr, color='darkorange', lw=lw, label='ROC curve (area = %0.2f)' % roc_auc)\n",
    "plt.plot([0, 1], [0, 1], color='navy', lw=lw, linestyle='--')\n",
    "plt.xlim([0.0, 1.0])\n",
    "plt.ylim([0.0, 1.05])\n",
    "plt.xlabel('False Positive Rate')\n",
    "plt.ylabel('True Positive Rate')\n",
    "plt.title('Receiver Operating Characteristic')\n",
    "plt.legend(loc=\"lower right\")\n",
    "plt.show()"
   ]
  },
  {
   "cell_type": "markdown",
   "id": "9641773c",
   "metadata": {},
   "source": [
    "## Powder"
   ]
  },
  {
   "cell_type": "code",
   "execution_count": 35,
   "id": "4790d14e",
   "metadata": {},
   "outputs": [],
   "source": [
    "csv_files = 'data/ablation_topic_powder.csv'\n",
    "\n",
    "df = pd.read_csv(csv_files)\n",
    "\n",
    "# Define the columns for LLM-generated and human-generated\n",
    "llm_columns = ['zero-shot', 'few-shot', 'novel', 'unique', 'creative', 'critique-critique', 'design-expert', 'farfetched']\n",
    "human_columns = ['human-1', 'human-2']\n",
    "\n",
    "new_rows = []\n",
    "for index, row in df.iterrows():\n",
    "    for col in llm_columns:\n",
    "        new_rows.append({'Type': 'LLM-Generated', 'Value': row[col]})\n",
    "    \n",
    "    for col in human_columns:\n",
    "        new_rows.append({'Type': 'human-generated', 'Value': row[col]})\n",
    "    \n",
    "new_df = pd.DataFrame(new_rows)"
   ]
  },
  {
   "cell_type": "code",
   "execution_count": 36,
   "id": "f4200771",
   "metadata": {},
   "outputs": [
    {
     "name": "stdout",
     "output_type": "stream",
     "text": [
      "              precision    recall  f1-score   support\n",
      "\n",
      "           0       0.89      1.00      0.94        84\n",
      "           1       1.00      0.38      0.55        16\n",
      "\n",
      "    accuracy                           0.90       100\n",
      "   macro avg       0.95      0.69      0.74       100\n",
      "weighted avg       0.91      0.90      0.88       100\n",
      "\n"
     ]
    }
   ],
   "source": [
    "model = SentenceTransformer('all-MiniLM-L6-v2')\n",
    "\n",
    "# Encode the 'Value' column text data into embeddings\n",
    "embeddings = model.encode(new_df['Value'].astype('str').tolist())\n",
    "\n",
    "# Convert 'Type' into a binary target variable\n",
    "# LLM-Generated -> 0 & Human-Generated -> 1\n",
    "new_df['Target'] = new_df['Type'].map({'LLM-Generated': 0, 'human-generated': 1})\n",
    "\n",
    "# Split the data into training and testing sets\n",
    "X_train, X_test, y_train, y_test = train_test_split(embeddings, new_df['Target'], test_size=0.2, random_state=42)\n",
    "\n",
    "# Initialize and train the logistic regression model\n",
    "lr_model = LogisticRegression(max_iter=1000)\n",
    "lr_model.fit(X_train, y_train)\n",
    "\n",
    "# Make predictions on the test set\n",
    "predictions = lr_model.predict(X_test)\n",
    "\n",
    "# Evaluate the model\n",
    "print(classification_report(y_test, predictions))"
   ]
  },
  {
   "cell_type": "code",
   "execution_count": 37,
   "id": "e9bd3f57",
   "metadata": {},
   "outputs": [
    {
     "name": "stdout",
     "output_type": "stream",
     "text": [
      "Confusion Matrix:\n",
      " [[84  0]\n",
      " [10  6]]\n"
     ]
    },
    {
     "data": {
      "image/png": "[encoded data removed]",
      "text/plain": [
       "<Figure size 640x480 with 1 Axes>"
      ]
     },
     "metadata": {},
     "output_type": "display_data"
    }
   ],
   "source": [
    "# Confusion Matrix\n",
    "conf_matrix = confusion_matrix(y_test, predictions)\n",
    "print(\"Confusion Matrix:\\n\", conf_matrix)\n",
    "\n",
    "# ROC Curve and AUC\n",
    "fpr, tpr, thresholds = roc_curve(y_test, lr_model.predict_proba(X_test)[:,1])\n",
    "roc_auc = auc(fpr, tpr)\n",
    "\n",
    "# Plot ROC Curve\n",
    "plt.figure()\n",
    "lw = 2\n",
    "plt.plot(fpr, tpr, color='darkorange', lw=lw, label='ROC curve (area = %0.2f)' % roc_auc)\n",
    "plt.plot([0, 1], [0, 1], color='navy', lw=lw, linestyle='--')\n",
    "plt.xlim([0.0, 1.0])\n",
    "plt.ylim([0.0, 1.05])\n",
    "plt.xlabel('False Positive Rate')\n",
    "plt.ylabel('True Positive Rate')\n",
    "plt.title('Receiver Operating Characteristic')\n",
    "plt.legend(loc=\"lower right\")\n",
    "plt.show()"
   ]
  },
  {
   "cell_type": "markdown",
   "id": "2a1a8295",
   "metadata": {},
   "source": [
    "## Time"
   ]
  },
  {
   "cell_type": "code",
   "execution_count": 39,
   "id": "1c1f2abc",
   "metadata": {},
   "outputs": [],
   "source": [
    "csv_files = 'data/ablation_topic_time.csv'\n",
    "\n",
    "df = pd.read_csv(csv_files)\n",
    "\n",
    "# Define the columns for LLM-generated and human-generated\n",
    "llm_columns = ['zero-shot', 'few-shot', 'novel', 'unique', 'creative', 'critique-critique', 'design-expert', 'farfetched']\n",
    "human_columns = ['human-1', 'human-2']\n",
    "\n",
    "new_rows = []\n",
    "for index, row in df.iterrows():\n",
    "    for col in llm_columns:\n",
    "        new_rows.append({'Type': 'LLM-Generated', 'Value': row[col]})\n",
    "    \n",
    "    for col in human_columns:\n",
    "        new_rows.append({'Type': 'human-generated', 'Value': row[col]})\n",
    "    \n",
    "new_df = pd.DataFrame(new_rows)"
   ]
  },
  {
   "cell_type": "code",
   "execution_count": 40,
   "id": "30f71d44",
   "metadata": {},
   "outputs": [
    {
     "name": "stdout",
     "output_type": "stream",
     "text": [
      "              precision    recall  f1-score   support\n",
      "\n",
      "           0       0.89      1.00      0.94        84\n",
      "           1       1.00      0.38      0.55        16\n",
      "\n",
      "    accuracy                           0.90       100\n",
      "   macro avg       0.95      0.69      0.74       100\n",
      "weighted avg       0.91      0.90      0.88       100\n",
      "\n"
     ]
    }
   ],
   "source": [
    "model = SentenceTransformer('all-MiniLM-L6-v2')\n",
    "\n",
    "# Encode the 'Value' column text data into embeddings\n",
    "embeddings = model.encode(new_df['Value'].astype('str').tolist())\n",
    "\n",
    "# Convert 'Type' into a binary target variable\n",
    "# LLM-Generated -> 0 & Human-Generated -> 1\n",
    "new_df['Target'] = new_df['Type'].map({'LLM-Generated': 0, 'human-generated': 1})\n",
    "\n",
    "# Split the data into training and testing sets\n",
    "X_train, X_test, y_train, y_test = train_test_split(embeddings, new_df['Target'], test_size=0.2, random_state=42)\n",
    "\n",
    "# Initialize and train the logistic regression model\n",
    "lr_model = LogisticRegression(max_iter=1000)\n",
    "lr_model.fit(X_train, y_train)\n",
    "\n",
    "# Make predictions on the test set\n",
    "predictions = lr_model.predict(X_test)\n",
    "\n",
    "# Evaluate the model\n",
    "print(classification_report(y_test, predictions))"
   ]
  },
  {
   "cell_type": "code",
   "execution_count": 41,
   "id": "66b55b9a",
   "metadata": {},
   "outputs": [
    {
     "name": "stdout",
     "output_type": "stream",
     "text": [
      "Confusion Matrix:\n",
      " [[84  0]\n",
      " [10  6]]\n"
     ]
    },
    {
     "data": {
      "image/png": "[encoded data removed]",
      "text/plain": [
       "<Figure size 640x480 with 1 Axes>"
      ]
     },
     "metadata": {},
     "output_type": "display_data"
    }
   ],
   "source": [
    "# Confusion Matrix\n",
    "conf_matrix = confusion_matrix(y_test, predictions)\n",
    "print(\"Confusion Matrix:\\n\", conf_matrix)\n",
    "\n",
    "# ROC Curve and AUC\n",
    "fpr, tpr, thresholds = roc_curve(y_test, lr_model.predict_proba(X_test)[:,1])\n",
    "roc_auc = auc(fpr, tpr)\n",
    "\n",
    "# Plot ROC Curve\n",
    "plt.figure()\n",
    "lw = 2\n",
    "plt.plot(fpr, tpr, color='darkorange', lw=lw, label='ROC curve (area = %0.2f)' % roc_auc)\n",
    "plt.plot([0, 1], [0, 1], color='navy', lw=lw, linestyle='--')\n",
    "plt.xlim([0.0, 1.0])\n",
    "plt.ylim([0.0, 1.05])\n",
    "plt.xlabel('False Positive Rate')\n",
    "plt.ylabel('True Positive Rate')\n",
    "plt.title('Receiver Operating Characteristic')\n",
    "plt.legend(loc=\"lower right\")\n",
    "plt.show()"
   ]
  },
  {
   "cell_type": "markdown",
   "id": "083e11f7",
   "metadata": {},
   "source": [
    "## Towels"
   ]
  },
  {
   "cell_type": "code",
   "execution_count": 42,
   "id": "b094d382",
   "metadata": {},
   "outputs": [],
   "source": [
    "csv_files = 'data/ablation_topic_towels.csv'\n",
    "\n",
    "df = pd.read_csv(csv_files)\n",
    "\n",
    "# Define the columns for LLM-generated and human-generated\n",
    "llm_columns = ['zero-shot', 'few-shot', 'novel', 'unique', 'creative', 'critique-critique', 'design-expert', 'farfetched']\n",
    "human_columns = ['human-1', 'human-2']\n",
    "\n",
    "new_rows = []\n",
    "for index, row in df.iterrows():\n",
    "    for col in llm_columns:\n",
    "        new_rows.append({'Type': 'LLM-Generated', 'Value': row[col]})\n",
    "    \n",
    "    for col in human_columns:\n",
    "        new_rows.append({'Type': 'human-generated', 'Value': row[col]})\n",
    "    \n",
    "new_df = pd.DataFrame(new_rows)"
   ]
  },
  {
   "cell_type": "code",
   "execution_count": 43,
   "id": "ac9edfbf",
   "metadata": {},
   "outputs": [
    {
     "name": "stdout",
     "output_type": "stream",
     "text": [
      "              precision    recall  f1-score   support\n",
      "\n",
      "           0       0.92      1.00      0.96        84\n",
      "           1       1.00      0.56      0.72        16\n",
      "\n",
      "    accuracy                           0.93       100\n",
      "   macro avg       0.96      0.78      0.84       100\n",
      "weighted avg       0.94      0.93      0.92       100\n",
      "\n"
     ]
    }
   ],
   "source": [
    "model = SentenceTransformer('all-MiniLM-L6-v2')\n",
    "\n",
    "# Encode the 'Value' column text data into embeddings\n",
    "embeddings = model.encode(new_df['Value'].astype('str').tolist())\n",
    "\n",
    "# Convert 'Type' into a binary target variable\n",
    "# LLM-Generated -> 0 & Human-Generated -> 1\n",
    "new_df['Target'] = new_df['Type'].map({'LLM-Generated': 0, 'human-generated': 1})\n",
    "\n",
    "# Split the data into training and testing sets\n",
    "X_train, X_test, y_train, y_test = train_test_split(embeddings, new_df['Target'], test_size=0.2, random_state=42)\n",
    "\n",
    "# Initialize and train the logistic regression model\n",
    "lr_model = LogisticRegression(max_iter=1000)\n",
    "lr_model.fit(X_train, y_train)\n",
    "\n",
    "# Make predictions on the test set\n",
    "predictions = lr_model.predict(X_test)\n",
    "\n",
    "# Evaluate the model\n",
    "print(classification_report(y_test, predictions))"
   ]
  },
  {
   "cell_type": "code",
   "execution_count": 44,
   "id": "4635dec9",
   "metadata": {},
   "outputs": [
    {
     "name": "stdout",
     "output_type": "stream",
     "text": [
      "Confusion Matrix:\n",
      " [[84  0]\n",
      " [ 7  9]]\n"
     ]
    },
    {
     "data": {
      "image/png": "[encoded data removed]",
      "text/plain": [
       "<Figure size 640x480 with 1 Axes>"
      ]
     },
     "metadata": {},
     "output_type": "display_data"
    }
   ],
   "source": [
    "# Confusion Matrix\n",
    "conf_matrix = confusion_matrix(y_test, predictions)\n",
    "print(\"Confusion Matrix:\\n\", conf_matrix)\n",
    "\n",
    "# ROC Curve and AUC\n",
    "fpr, tpr, thresholds = roc_curve(y_test, lr_model.predict_proba(X_test)[:,1])\n",
    "roc_auc = auc(fpr, tpr)\n",
    "\n",
    "# Plot ROC Curve\n",
    "plt.figure()\n",
    "lw = 2\n",
    "plt.plot(fpr, tpr, color='darkorange', lw=lw, label='ROC curve (area = %0.2f)' % roc_auc)\n",
    "plt.plot([0, 1], [0, 1], color='navy', lw=lw, linestyle='--')\n",
    "plt.xlim([0.0, 1.0])\n",
    "plt.ylim([0.0, 1.05])\n",
    "plt.xlabel('False Positive Rate')\n",
    "plt.ylabel('True Positive Rate')\n",
    "plt.title('Receiver Operating Characteristic')\n",
    "plt.legend(loc=\"lower right\")\n",
    "plt.show()"
   ]
  },
  {
   "cell_type": "markdown",
   "id": "2aeb6bfe",
   "metadata": {},
   "source": [
    "# Stratified KFold Method!"
   ]
  },
  {
   "cell_type": "markdown",
   "id": "8c2ff05d",
   "metadata": {},
   "source": [
    "## Time"
   ]
  },
  {
   "cell_type": "code",
   "execution_count": 3,
   "id": "dd127a82",
   "metadata": {},
   "outputs": [],
   "source": [
    "csv_files = 'data/ablation_topic_time.csv'\n",
    "\n",
    "df = pd.read_csv(csv_files)\n",
    "\n",
    "# Define the columns for LLM-generated and human-generated\n",
    "llm_columns = ['zero-shot', 'few-shot', 'novel', 'unique', 'creative', 'critique-critique', 'design-expert', 'farfetched']\n",
    "human_columns = ['human-1', 'human-2']\n",
    "\n",
    "new_rows = []\n",
    "for index, row in df.iterrows():\n",
    "    for col in llm_columns:\n",
    "        new_rows.append({'Type': 'LLM-Generated', 'Value': row[col]})\n",
    "    \n",
    "    for col in human_columns:\n",
    "        new_rows.append({'Type': 'human-generated', 'Value': row[col]})\n",
    "    \n",
    "new_df = pd.DataFrame(new_rows)"
   ]
  },
  {
   "cell_type": "code",
   "execution_count": 7,
   "id": "d07c24d8",
   "metadata": {},
   "outputs": [
    {
     "name": "stdout",
     "output_type": "stream",
     "text": [
      "K-Folds Method Mean accuracy:  0.908\n",
      "K-Folds Method Mean precision:  0.9846153846153847\n",
      "K-Folds Method Mean recall:  0.55\n",
      "K-Folds Method Mean f1:  0.7016757436112275\n"
     ]
    }
   ],
   "source": [
    "model = SentenceTransformer('all-MiniLM-L6-v2')\n",
    "\n",
    "# Encode the 'Value' column text data into embeddings\n",
    "embeddings = model.encode(new_df['Value'].astype('str').tolist())\n",
    "\n",
    "# Convert 'Type' into a binary target variable\n",
    "# LLM-Generated -> 0 & Human-Generated -> 1\n",
    "new_df['Target'] = new_df['Type'].map({'LLM-Generated': 0, 'human-generated': 1})\n",
    "\n",
    "# Initialize your logistic regression model\n",
    "lr_model = LogisticRegression(max_iter=1000)\n",
    "\n",
    "# Define StratifiedKFold for cross-validation\n",
    "stratified_kfold = StratifiedKFold(n_splits=5, shuffle=True, random_state=42)\n",
    "\n",
    "# Define scoring metrics you're interested in\n",
    "scoring = ['accuracy', 'precision', 'recall', 'f1']\n",
    "\n",
    "# Perform cross-validation\n",
    "cv_results = cross_validate(lr_model, embeddings, new_df['Target'], cv=stratified_kfold, scoring=scoring, return_train_score=False)\n",
    "\n",
    "# Print the results for each metric\n",
    "for score in scoring:\n",
    "    print(\"K-Folds Method\", f\"Mean {score}: \", np.mean(cv_results[f'test_{score}']))"
   ]
  },
  {
   "cell_type": "markdown",
   "id": "cc964524",
   "metadata": {},
   "source": [
    "Generally high mean accuracy, precision, recall, and F1 indicates good separability (close to 1)\n",
    "\n",
    "### Mean Accuracy: 0.908\n",
    "\n",
    "- This is a high accuracy score, suggesting that, on average, the logistic regression model is able to correctly classify a significant majority of the sentences as either LLM-Generated or Human-Generated. High accuracy is a positive indicator of separability, implying that a linear boundary between the classes exists that the model can exploit.\n",
    "\n",
    "### Mean Precision: 0.9846153846153847\n",
    "\n",
    "- Precision is exceptionally high, indicating that when the model predicts a sentence to be in the positive class (which we assume to be \"Human-Generated\"), it is correct about 98.5% of the time. This suggests that the model is very reliable in its positive predictions, contributing to the evidence of separability. However, high precision with respect to one class doesn't fully describe the model's overall ability to separate both classes.\n",
    "\n",
    "### Mean Recall: 0.55\n",
    "\n",
    "- Recall (or sensitivity) is significantly lower than precision, indicating that the model only correctly identifies 55% of the actual Human-Generated sentences. This suggests that while the model is very confident and accurate in the predictions it makes for the Human-Generated class, it misses a substantial portion of this class, likely misclassifying them as LLM-Generated. This could point to a limitation in the linear separability, especially in terms of the model's ability to capture all instances of one class without misclassification.\n",
    "\n",
    "### Mean F1 Score: 0.7016757436112275\n",
    "\n",
    "- The F1 score is the harmonic mean of precision and recall, providing a single metric that balances the two. An F1 score of approximately 0.70 suggests that the model has a good but not excellent balance between precision and recall. This is a respectable score but indicates room for improvement, especially in increasing recall without significantly sacrificing precision.\n",
    "\n",
    "### Interpretation Regarding Separability\n",
    "\n",
    "- **Evidence of Partial Separability**: The high accuracy and precision suggest that there is a degree of linear separability in your data, allowing the logistic regression model to effectively distinguish between many of the LLM-Generated and Human-Generated sentences.\n",
    "  \n",
    "- **Limitations in Recall**: The moderate recall score indicates a limitation in this separability, particularly in consistently identifying all Human-Generated sentences. This could mean that while a linear boundary exists, it may not perfectly separate the classes, especially under the challenge of identifying all positives (Human-Generated sentences) correctly.\n",
    "\n",
    "- **Overall**: Your results suggest that there is a significant degree of linear separability in your dataset, but it's not absolute. The model is highly reliable in its positive predictions but fails to capture all instances of the Human-Generated class, indicating that the separability, while strong, is not perfect."
   ]
  },
  {
   "cell_type": "markdown",
   "id": "046d7b53",
   "metadata": {},
   "source": [
    "## Powder"
   ]
  },
  {
   "cell_type": "code",
   "execution_count": 8,
   "id": "ecca9612",
   "metadata": {},
   "outputs": [],
   "source": [
    "csv_files = 'data/ablation_topic_powder.csv'\n",
    "\n",
    "df = pd.read_csv(csv_files)\n",
    "\n",
    "# Define the columns for LLM-generated and human-generated\n",
    "llm_columns = ['zero-shot', 'few-shot', 'novel', 'unique', 'creative', 'critique-critique', 'design-expert', 'farfetched']\n",
    "human_columns = ['human-1', 'human-2']\n",
    "\n",
    "new_rows = []\n",
    "for index, row in df.iterrows():\n",
    "    for col in llm_columns:\n",
    "        new_rows.append({'Type': 'LLM-Generated', 'Value': row[col]})\n",
    "    \n",
    "    for col in human_columns:\n",
    "        new_rows.append({'Type': 'human-generated', 'Value': row[col]})\n",
    "    \n",
    "new_df = pd.DataFrame(new_rows)"
   ]
  },
  {
   "cell_type": "code",
   "execution_count": 9,
   "id": "6ec75be3",
   "metadata": {},
   "outputs": [
    {
     "name": "stdout",
     "output_type": "stream",
     "text": [
      "K-Folds Method Mean accuracy:  0.8859999999999999\n",
      "K-Folds Method Mean precision:  1.0\n",
      "K-Folds Method Mean recall:  0.43000000000000005\n",
      "K-Folds Method Mean f1:  0.5916505835860674\n"
     ]
    }
   ],
   "source": [
    "model = SentenceTransformer('all-MiniLM-L6-v2')\n",
    "\n",
    "# Encode the 'Value' column text data into embeddings\n",
    "embeddings = model.encode(new_df['Value'].astype('str').tolist())\n",
    "\n",
    "# Convert 'Type' into a binary target variable\n",
    "# LLM-Generated -> 0 & Human-Generated -> 1\n",
    "new_df['Target'] = new_df['Type'].map({'LLM-Generated': 0, 'human-generated': 1})\n",
    "\n",
    "# Initialize your logistic regression model\n",
    "lr_model = LogisticRegression(max_iter=1000)\n",
    "\n",
    "# Define StratifiedKFold for cross-validation\n",
    "stratified_kfold = StratifiedKFold(n_splits=5, shuffle=True, random_state=42)\n",
    "\n",
    "# Define scoring metrics you're interested in\n",
    "scoring = ['accuracy', 'precision', 'recall', 'f1']\n",
    "\n",
    "# Perform cross-validation\n",
    "cv_results = cross_validate(lr_model, embeddings, new_df['Target'], cv=stratified_kfold, scoring=scoring, return_train_score=False)\n",
    "\n",
    "# Print the results for each metric\n",
    "for score in scoring:\n",
    "    print(\"K-Folds Method\", f\"Mean {score}: \", np.mean(cv_results[f'test_{score}']))"
   ]
  },
  {
   "cell_type": "markdown",
   "id": "000c23b1",
   "metadata": {},
   "source": [
    "## Exercise Device"
   ]
  },
  {
   "cell_type": "code",
   "execution_count": 10,
   "id": "0f7d43ca",
   "metadata": {},
   "outputs": [],
   "source": [
    "csv_files = 'data/ablation_topic_exercise.csv'\n",
    "\n",
    "df = pd.read_csv(csv_files)\n",
    "\n",
    "# Define the columns for LLM-generated and human-generated\n",
    "llm_columns = ['zero-shot', 'few-shot', 'novel', 'unique', 'creative', 'critique-critique', 'design-expert', 'farfetched']\n",
    "human_columns = ['human-1', 'human-2']\n",
    "\n",
    "new_rows = []\n",
    "for index, row in df.iterrows():\n",
    "    for col in llm_columns:\n",
    "        new_rows.append({'Type': 'LLM-Generated', 'Value': row[col]})\n",
    "    \n",
    "    for col in human_columns:\n",
    "        new_rows.append({'Type': 'human-generated', 'Value': row[col]})\n",
    "    \n",
    "new_df = pd.DataFrame(new_rows)"
   ]
  },
  {
   "cell_type": "code",
   "execution_count": 11,
   "id": "23987e25",
   "metadata": {},
   "outputs": [
    {
     "name": "stdout",
     "output_type": "stream",
     "text": [
      "K-Folds Method Mean accuracy:  0.8745098039215687\n",
      "K-Folds Method Mean precision:  1.0\n",
      "K-Folds Method Mean recall:  0.3742857142857143\n",
      "K-Folds Method Mean f1:  0.5311749680715198\n"
     ]
    }
   ],
   "source": [
    "model = SentenceTransformer('all-MiniLM-L6-v2')\n",
    "\n",
    "# Encode the 'Value' column text data into embeddings\n",
    "embeddings = model.encode(new_df['Value'].astype('str').tolist())\n",
    "\n",
    "# Convert 'Type' into a binary target variable\n",
    "# LLM-Generated -> 0 & Human-Generated -> 1\n",
    "new_df['Target'] = new_df['Type'].map({'LLM-Generated': 0, 'human-generated': 1})\n",
    "\n",
    "# Initialize your logistic regression model\n",
    "lr_model = LogisticRegression(max_iter=1000)\n",
    "\n",
    "# Define StratifiedKFold for cross-validation\n",
    "stratified_kfold = StratifiedKFold(n_splits=5, shuffle=True, random_state=42)\n",
    "\n",
    "# Define scoring metrics you're interested in\n",
    "scoring = ['accuracy', 'precision', 'recall', 'f1']\n",
    "\n",
    "# Perform cross-validation\n",
    "cv_results = cross_validate(lr_model, embeddings, new_df['Target'], cv=stratified_kfold, scoring=scoring, return_train_score=False)\n",
    "\n",
    "# Print the results for each metric\n",
    "for score in scoring:\n",
    "    print(\"K-Folds Method\", f\"Mean {score}: \", np.mean(cv_results[f'test_{score}']))"
   ]
  },
  {
   "cell_type": "markdown",
   "id": "ef9e0310",
   "metadata": {},
   "source": [
    "## Milk Froth"
   ]
  },
  {
   "cell_type": "code",
   "execution_count": 12,
   "id": "a930a8a1",
   "metadata": {},
   "outputs": [],
   "source": [
    "csv_files = 'data/ablation_topic_froth.csv'\n",
    "\n",
    "df = pd.read_csv(csv_files)\n",
    "\n",
    "# Define the columns for LLM-generated and human-generated\n",
    "llm_columns = ['zero-shot', 'few-shot', 'novel', 'unique', 'creative', 'critique-critique', 'design-expert', 'farfetched']\n",
    "human_columns = ['human-1', 'human-2']\n",
    "\n",
    "new_rows = []\n",
    "for index, row in df.iterrows():\n",
    "    for col in llm_columns:\n",
    "        new_rows.append({'Type': 'LLM-Generated', 'Value': row[col]})\n",
    "    \n",
    "    for col in human_columns:\n",
    "        new_rows.append({'Type': 'human-generated', 'Value': row[col]})\n",
    "    \n",
    "new_df = pd.DataFrame(new_rows)"
   ]
  },
  {
   "cell_type": "code",
   "execution_count": 13,
   "id": "9d648ffc",
   "metadata": {},
   "outputs": [
    {
     "name": "stdout",
     "output_type": "stream",
     "text": [
      "K-Folds Method Mean accuracy:  0.9400000000000001\n",
      "K-Folds Method Mean precision:  1.0\n",
      "K-Folds Method Mean recall:  0.7\n",
      "K-Folds Method Mean f1:  0.8218614718614718\n"
     ]
    }
   ],
   "source": [
    "model = SentenceTransformer('all-MiniLM-L6-v2')\n",
    "\n",
    "# Encode the 'Value' column text data into embeddings\n",
    "embeddings = model.encode(new_df['Value'].astype('str').tolist())\n",
    "\n",
    "# Convert 'Type' into a binary target variable\n",
    "# LLM-Generated -> 0 & Human-Generated -> 1\n",
    "new_df['Target'] = new_df['Type'].map({'LLM-Generated': 0, 'human-generated': 1})\n",
    "\n",
    "# Initialize your logistic regression model\n",
    "lr_model = LogisticRegression(max_iter=1000)\n",
    "\n",
    "# Define StratifiedKFold for cross-validation\n",
    "stratified_kfold = StratifiedKFold(n_splits=5, shuffle=True, random_state=42)\n",
    "\n",
    "# Define scoring metrics you're interested in\n",
    "scoring = ['accuracy', 'precision', 'recall', 'f1']\n",
    "\n",
    "# Perform cross-validation\n",
    "cv_results = cross_validate(lr_model, embeddings, new_df['Target'], cv=stratified_kfold, scoring=scoring, return_train_score=False)\n",
    "\n",
    "# Print the results for each metric\n",
    "for score in scoring:\n",
    "    print(\"K-Folds Method\", f\"Mean {score}: \", np.mean(cv_results[f'test_{score}']))"
   ]
  },
  {
   "cell_type": "markdown",
   "id": "10aff0a9",
   "metadata": {},
   "source": [
    "## Towels"
   ]
  },
  {
   "cell_type": "code",
   "execution_count": 14,
   "id": "cb9ff904",
   "metadata": {},
   "outputs": [],
   "source": [
    "csv_files = 'data/ablation_topic_towels.csv'\n",
    "\n",
    "df = pd.read_csv(csv_files)\n",
    "\n",
    "# Define the columns for LLM-generated and human-generated\n",
    "llm_columns = ['zero-shot', 'few-shot', 'novel', 'unique', 'creative', 'critique-critique', 'design-expert', 'farfetched']\n",
    "human_columns = ['human-1', 'human-2']\n",
    "\n",
    "new_rows = []\n",
    "for index, row in df.iterrows():\n",
    "    for col in llm_columns:\n",
    "        new_rows.append({'Type': 'LLM-Generated', 'Value': row[col]})\n",
    "    \n",
    "    for col in human_columns:\n",
    "        new_rows.append({'Type': 'human-generated', 'Value': row[col]})\n",
    "    \n",
    "new_df = pd.DataFrame(new_rows)"
   ]
  },
  {
   "cell_type": "code",
   "execution_count": 15,
   "id": "8c8b1d71",
   "metadata": {},
   "outputs": [
    {
     "name": "stdout",
     "output_type": "stream",
     "text": [
      "K-Folds Method Mean accuracy:  0.898\n",
      "K-Folds Method Mean precision:  1.0\n",
      "K-Folds Method Mean recall:  0.49000000000000005\n",
      "K-Folds Method Mean f1:  0.6481593119524154\n"
     ]
    }
   ],
   "source": [
    "model = SentenceTransformer('all-MiniLM-L6-v2')\n",
    "\n",
    "# Encode the 'Value' column text data into embeddings\n",
    "embeddings = model.encode(new_df['Value'].astype('str').tolist())\n",
    "\n",
    "# Convert 'Type' into a binary target variable\n",
    "# LLM-Generated -> 0 & Human-Generated -> 1\n",
    "new_df['Target'] = new_df['Type'].map({'LLM-Generated': 0, 'human-generated': 1})\n",
    "\n",
    "# Initialize your logistic regression model\n",
    "lr_model = LogisticRegression(max_iter=1000)\n",
    "\n",
    "# Define StratifiedKFold for cross-validation\n",
    "stratified_kfold = StratifiedKFold(n_splits=5, shuffle=True, random_state=42)\n",
    "\n",
    "# Define scoring metrics you're interested in\n",
    "scoring = ['accuracy', 'precision', 'recall', 'f1']\n",
    "\n",
    "# Perform cross-validation\n",
    "cv_results = cross_validate(lr_model, embeddings, new_df['Target'], cv=stratified_kfold, scoring=scoring, return_train_score=False)\n",
    "\n",
    "# Print the results for each metric\n",
    "for score in scoring:\n",
    "    print(\"K-Folds Method\", f\"Mean {score}: \", np.mean(cv_results[f'test_{score}']))"
   ]
  },
  {
   "cell_type": "code",
   "execution_count": null,
   "id": "0eaf186e",
   "metadata": {},
   "outputs": [],
   "source": []
  }
 ],
 "metadata": {
  "kernelspec": {
   "display_name": "Python [conda env:research]",
   "language": "python",
   "name": "conda-env-research-py"
  },
  "language_info": {
   "codemirror_mode": {
    "name": "ipython",
    "version": 3
   },
   "file_extension": ".py",
   "mimetype": "text/x-python",
   "name": "python",
   "nbconvert_exporter": "python",
   "pygments_lexer": "ipython3",
   "version": "3.10.10"
  }
 },
 "nbformat": 4,
 "nbformat_minor": 5
}
