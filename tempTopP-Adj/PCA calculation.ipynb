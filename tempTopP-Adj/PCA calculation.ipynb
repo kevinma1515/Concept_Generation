{
 "cells": [
  {
   "cell_type": "code",
   "execution_count": 1,
   "id": "f74daa48",
   "metadata": {},
   "outputs": [
    {
     "name": "stderr",
     "output_type": "stream",
     "text": [
      "C:\\Users\\kevin\\anaconda3\\envs\\research\\lib\\site-packages\\tqdm\\auto.py:21: TqdmWarning: IProgress not found. Please update jupyter and ipywidgets. See https://ipywidgets.readthedocs.io/en/stable/user_install.html\n",
      "  from .autonotebook import tqdm as notebook_tqdm\n"
     ]
    }
   ],
   "source": [
    "import pandas as pd\n",
    "from sentence_transformers import SentenceTransformer\n",
    "from sklearn.decomposition import PCA\n",
    "import numpy as np"
   ]
  },
  {
   "cell_type": "code",
   "execution_count": 2,
   "id": "84f20a91",
   "metadata": {},
   "outputs": [],
   "source": [
    "# Initialize the SentenceTransformer model\n",
    "model = SentenceTransformer('all-MiniLM-L6-v2')"
   ]
  },
  {
   "cell_type": "code",
   "execution_count": 8,
   "id": "d542fc18",
   "metadata": {},
   "outputs": [],
   "source": [
    "csv_files = [\n",
    "    'data/ablation_tempTopP_froth.csv',\n",
    "    'data/ablation_tempTopP_towels.csv',\n",
    "    'data/ablation_tempTopP_time.csv',\n",
    "    'data/ablation_tempTopP_powder.csv',\n",
    "    'data/ablation_tempTopP_exercise.csv',\n",
    "    'data/ablation_topic_towels.csv',\n",
    "    'data/ablation_topic_powder.csv',\n",
    "    'data/ablation_topic_time.csv',\n",
    "    'data/ablation_topic_exercise.csv',\n",
    "    'data/ablation_topic_froth.csv'\n",
    "]"
   ]
  },
  {
   "cell_type": "code",
   "execution_count": 9,
   "id": "08de1629",
   "metadata": {},
   "outputs": [],
   "source": [
    "def calculate_pca_information_loss(embeddings, dimension):\n",
    "    pca = PCA(n_components=dimension)  \n",
    "    pca.fit(embeddings)\n",
    "    explained_variance_ratio = np.sum(pca.explained_variance_ratio_)\n",
    "    information_loss = 1 - explained_variance_ratio\n",
    "    return information_loss\n"
   ]
  },
  {
   "cell_type": "markdown",
   "id": "0f36a85a",
   "metadata": {},
   "source": [
    "Calculate PCA information loss for dimension n = 13."
   ]
  },
  {
   "cell_type": "code",
   "execution_count": 15,
   "id": "0c879ca0",
   "metadata": {},
   "outputs": [],
   "source": [
    "# Calculate PCA information loss for each CSV file and each column (n=13 dimensino)\n",
    "information_loss_results_13 = {}\n",
    "\n",
    "for csv_file in csv_files:\n",
    "    df = pd.read_csv(csv_file)\n",
    "    for column in df.columns:\n",
    "        embeddings = model.encode(df[column].astype(str).tolist())\n",
    "        loss = calculate_pca_information_loss(embeddings, 13)\n",
    "        information_loss_results_13[(csv_file, column)] = loss"
   ]
  },
  {
   "cell_type": "code",
   "execution_count": 16,
   "id": "9735ecab",
   "metadata": {},
   "outputs": [
    {
     "name": "stdout",
     "output_type": "stream",
     "text": [
      "Information loss for data/ablation_tempTopP_froth.csv, column TopP=0|Temperature=0: 0.3510\n",
      "Information loss for data/ablation_tempTopP_froth.csv, column TopP=0.5|Temperature=0: 0.3602\n",
      "Information loss for data/ablation_tempTopP_froth.csv, column TopP=1|Temperature=0: 0.3625\n",
      "Information loss for data/ablation_tempTopP_froth.csv, column TopP=0|Temperature=1: 0.3769\n",
      "Information loss for data/ablation_tempTopP_froth.csv, column TopP=0.5|Temperature=1: 0.4142\n",
      "Information loss for data/ablation_tempTopP_froth.csv, column TopP=1|Temperature=1: 0.4036\n",
      "Information loss for data/ablation_tempTopP_froth.csv, column TopP=0|Temperature=2: 0.3210\n",
      "Information loss for data/ablation_tempTopP_froth.csv, column TopP=0.5|Temperature=2: 0.3810\n",
      "Information loss for data/ablation_tempTopP_froth.csv, column Human-50-v1: 0.3796\n",
      "Information loss for data/ablation_tempTopP_froth.csv, column Human-50-v2: 0.3555\n",
      "Information loss for data/ablation_tempTopP_towels.csv, column TopP=0|Temperature=0: 0.3548\n",
      "Information loss for data/ablation_tempTopP_towels.csv, column TopP=0.5|Temperature=0: 0.4052\n",
      "Information loss for data/ablation_tempTopP_towels.csv, column TopP=1|Temperature=0: 0.3494\n",
      "Information loss for data/ablation_tempTopP_towels.csv, column TopP=0|Temperature=1: 0.3233\n",
      "Information loss for data/ablation_tempTopP_towels.csv, column TopP=0.5|Temperature=1: 0.3456\n",
      "Information loss for data/ablation_tempTopP_towels.csv, column TopP=1|Temperature=1: 0.4055\n",
      "Information loss for data/ablation_tempTopP_towels.csv, column TopP=0|Temperature=2: 0.3268\n",
      "Information loss for data/ablation_tempTopP_towels.csv, column TopP=0.5|Temperature=2: 0.3863\n",
      "Information loss for data/ablation_tempTopP_towels.csv, column Human-50-v1: 0.3329\n",
      "Information loss for data/ablation_tempTopP_towels.csv, column Human-50-v2: 0.3200\n",
      "Information loss for data/ablation_tempTopP_time.csv, column TopP=0|Temperature=0: 0.3604\n",
      "Information loss for data/ablation_tempTopP_time.csv, column TopP=0.5|Temperature=0: 0.3808\n",
      "Information loss for data/ablation_tempTopP_time.csv, column TopP=1|Temperature=0: 0.3447\n",
      "Information loss for data/ablation_tempTopP_time.csv, column TopP=0|Temperature=1: 0.3968\n",
      "Information loss for data/ablation_tempTopP_time.csv, column TopP=0.5|Temperature=1: 0.3718\n",
      "Information loss for data/ablation_tempTopP_time.csv, column TopP=1|Temperature=1: 0.4310\n",
      "Information loss for data/ablation_tempTopP_time.csv, column TopP=0|Temperature=2: 0.3746\n",
      "Information loss for data/ablation_tempTopP_time.csv, column TopP=0.5|Temperature=2: 0.3658\n",
      "Information loss for data/ablation_tempTopP_time.csv, column Human-50-1v: 0.3816\n",
      "Information loss for data/ablation_tempTopP_time.csv, column Human-50-2v: 0.3918\n",
      "Information loss for data/ablation_tempTopP_powder.csv, column TopP=0|Temperature=0: 0.4033\n",
      "Information loss for data/ablation_tempTopP_powder.csv, column TopP=0.5|Temperature=0: 0.3956\n",
      "Information loss for data/ablation_tempTopP_powder.csv, column TopP=1|Temperature=0: 0.3803\n",
      "Information loss for data/ablation_tempTopP_powder.csv, column TopP=0|Temperature=1: 0.4003\n",
      "Information loss for data/ablation_tempTopP_powder.csv, column TopP=0.5|Temperature=1: 0.3646\n",
      "Information loss for data/ablation_tempTopP_powder.csv, column TopP=1|Temperature=1: 0.4137\n",
      "Information loss for data/ablation_tempTopP_powder.csv, column TopP=0|Temperature=2: 0.4040\n",
      "Information loss for data/ablation_tempTopP_powder.csv, column TopP=0.5|Temperature=2: 0.3894\n",
      "Information loss for data/ablation_tempTopP_powder.csv, column Human-50-v1: 0.3760\n",
      "Information loss for data/ablation_tempTopP_powder.csv, column Human-50-v2: 0.3874\n",
      "Information loss for data/ablation_tempTopP_exercise.csv, column TopP=0|Temperature=0: 0.3476\n",
      "Information loss for data/ablation_tempTopP_exercise.csv, column TopP=0.5|Temperature=0: 0.3234\n",
      "Information loss for data/ablation_tempTopP_exercise.csv, column TopP=1|Temperature=0: 0.3378\n",
      "Information loss for data/ablation_tempTopP_exercise.csv, column TopP=0|Temperature=1: 0.3633\n",
      "Information loss for data/ablation_tempTopP_exercise.csv, column TopP=0.5|Temperature=1: 0.3765\n",
      "Information loss for data/ablation_tempTopP_exercise.csv, column TopP=1|Temperature=1: 0.4010\n",
      "Information loss for data/ablation_tempTopP_exercise.csv, column TopP=0|Temperature=2: 0.3401\n",
      "Information loss for data/ablation_tempTopP_exercise.csv, column TopP=0.5|Temperature=2: 0.3674\n",
      "Information loss for data/ablation_tempTopP_exercise.csv, column Human-50-1v: 0.3850\n",
      "Information loss for data/ablation_tempTopP_exercise.csv, column Human-50-2v: 0.4127\n",
      "Information loss for data/ablation_topic_towels.csv, column zero-shot: 0.4055\n",
      "Information loss for data/ablation_topic_towels.csv, column few-shot: 0.4042\n",
      "Information loss for data/ablation_topic_towels.csv, column novel: 0.3895\n",
      "Information loss for data/ablation_topic_towels.csv, column unique: 0.3848\n",
      "Information loss for data/ablation_topic_towels.csv, column creative: 0.4035\n",
      "Information loss for data/ablation_topic_towels.csv, column diverse: 0.4052\n",
      "Information loss for data/ablation_topic_towels.csv, column critique-critique: 0.4012\n",
      "Information loss for data/ablation_topic_towels.csv, column design-expert: 0.3761\n",
      "Information loss for data/ablation_topic_towels.csv, column farfetched: 0.4059\n",
      "Information loss for data/ablation_topic_towels.csv, column human-1: 0.3344\n",
      "Information loss for data/ablation_topic_towels.csv, column human-2: 0.3147\n",
      "Information loss for data/ablation_topic_powder.csv, column zero-shot: 0.4137\n",
      "Information loss for data/ablation_topic_powder.csv, column few-shot: 0.3767\n",
      "Information loss for data/ablation_topic_powder.csv, column novel: 0.4091\n",
      "Information loss for data/ablation_topic_powder.csv, column unique: 0.4155\n",
      "Information loss for data/ablation_topic_powder.csv, column creative: 0.4207\n",
      "Information loss for data/ablation_topic_powder.csv, column diverse: 0.4009\n",
      "Information loss for data/ablation_topic_powder.csv, column critique-critique: 0.4141\n",
      "Information loss for data/ablation_topic_powder.csv, column design-expert: 0.3916\n",
      "Information loss for data/ablation_topic_powder.csv, column farfetched: 0.4202\n",
      "Information loss for data/ablation_topic_powder.csv, column human-1: 0.3760\n",
      "Information loss for data/ablation_topic_powder.csv, column human-2: 0.3874\n",
      "Information loss for data/ablation_topic_time.csv, column zero-shot: 0.4310\n",
      "Information loss for data/ablation_topic_time.csv, column few-shot: 0.4273\n",
      "Information loss for data/ablation_topic_time.csv, column novel: 0.4090\n",
      "Information loss for data/ablation_topic_time.csv, column unique: 0.3959\n",
      "Information loss for data/ablation_topic_time.csv, column creative: 0.4137\n",
      "Information loss for data/ablation_topic_time.csv, column diverse: 0.3932\n",
      "Information loss for data/ablation_topic_time.csv, column critique-critique: 0.4309\n",
      "Information loss for data/ablation_topic_time.csv, column design-expert: 0.4225\n",
      "Information loss for data/ablation_topic_time.csv, column farfetched: 0.4188\n",
      "Information loss for data/ablation_topic_time.csv, column human-1: 0.3816\n",
      "Information loss for data/ablation_topic_time.csv, column human-2: 0.3918\n",
      "Information loss for data/ablation_topic_exercise.csv, column zero-shot: 0.3949\n",
      "Information loss for data/ablation_topic_exercise.csv, column few-shot: 0.3993\n",
      "Information loss for data/ablation_topic_exercise.csv, column novel: 0.3973\n",
      "Information loss for data/ablation_topic_exercise.csv, column unique: 0.3908\n",
      "Information loss for data/ablation_topic_exercise.csv, column creative: 0.3979\n",
      "Information loss for data/ablation_topic_exercise.csv, column diverse: 0.4091\n",
      "Information loss for data/ablation_topic_exercise.csv, column critique-critique: 0.4275\n",
      "Information loss for data/ablation_topic_exercise.csv, column design-expert: 0.4069\n",
      "Information loss for data/ablation_topic_exercise.csv, column farfetched: 0.4200\n",
      "Information loss for data/ablation_topic_exercise.csv, column human-1: 0.3832\n",
      "Information loss for data/ablation_topic_exercise.csv, column human-2: 0.4055\n",
      "Information loss for data/ablation_topic_froth.csv, column zero-shot: 0.4036\n",
      "Information loss for data/ablation_topic_froth.csv, column few-shot: 0.4003\n",
      "Information loss for data/ablation_topic_froth.csv, column novel: 0.4175\n",
      "Information loss for data/ablation_topic_froth.csv, column unique: 0.4041\n",
      "Information loss for data/ablation_topic_froth.csv, column creative: 0.4113\n",
      "Information loss for data/ablation_topic_froth.csv, column diverse: 0.4157\n",
      "Information loss for data/ablation_topic_froth.csv, column critique-critique: 0.3831\n",
      "Information loss for data/ablation_topic_froth.csv, column design-expert: 0.3868\n",
      "Information loss for data/ablation_topic_froth.csv, column farfetched: 0.4102\n",
      "Information loss for data/ablation_topic_froth.csv, column human-1: 0.3796\n",
      "Information loss for data/ablation_topic_froth.csv, column human-2: 0.3555\n"
     ]
    }
   ],
   "source": [
    "for (file, column), loss in information_loss_results_13.items():\n",
    "    print(f'Information loss for {file}, column {column}: {loss:.4f}')"
   ]
  },
  {
   "cell_type": "markdown",
   "id": "b3469045",
   "metadata": {},
   "source": [
    "Calculate information loss for dimension n = 20"
   ]
  },
  {
   "cell_type": "code",
   "execution_count": 17,
   "id": "0a71c290",
   "metadata": {},
   "outputs": [],
   "source": [
    "# Calculate PCA information loss for each CSV file and each column (n=13 dimensino)\n",
    "information_loss_results_20 = {}\n",
    "\n",
    "for csv_file in csv_files:\n",
    "    df = pd.read_csv(csv_file)\n",
    "    for column in df.columns:\n",
    "        embeddings = model.encode(df[column].astype(str).tolist())\n",
    "        loss = calculate_pca_information_loss(embeddings, 20)\n",
    "        information_loss_results_20[(csv_file, column)] = loss"
   ]
  },
  {
   "cell_type": "code",
   "execution_count": 18,
   "id": "cc3b4e02",
   "metadata": {},
   "outputs": [
    {
     "name": "stdout",
     "output_type": "stream",
     "text": [
      "Information loss for data/ablation_tempTopP_froth.csv, column TopP=0|Temperature=0: 0.2150\n",
      "Information loss for data/ablation_tempTopP_froth.csv, column TopP=0.5|Temperature=0: 0.2193\n",
      "Information loss for data/ablation_tempTopP_froth.csv, column TopP=1|Temperature=0: 0.2228\n",
      "Information loss for data/ablation_tempTopP_froth.csv, column TopP=0|Temperature=1: 0.2348\n",
      "Information loss for data/ablation_tempTopP_froth.csv, column TopP=0.5|Temperature=1: 0.2664\n",
      "Information loss for data/ablation_tempTopP_froth.csv, column TopP=1|Temperature=1: 0.2576\n",
      "Information loss for data/ablation_tempTopP_froth.csv, column TopP=0|Temperature=2: 0.2002\n",
      "Information loss for data/ablation_tempTopP_froth.csv, column TopP=0.5|Temperature=2: 0.2402\n",
      "Information loss for data/ablation_tempTopP_froth.csv, column Human-50-v1: 0.2386\n",
      "Information loss for data/ablation_tempTopP_froth.csv, column Human-50-v2: 0.2194\n",
      "Information loss for data/ablation_tempTopP_towels.csv, column TopP=0|Temperature=0: 0.2178\n",
      "Information loss for data/ablation_tempTopP_towels.csv, column TopP=0.5|Temperature=0: 0.2662\n",
      "Information loss for data/ablation_tempTopP_towels.csv, column TopP=1|Temperature=0: 0.2065\n",
      "Information loss for data/ablation_tempTopP_towels.csv, column TopP=0|Temperature=1: 0.1952\n",
      "Information loss for data/ablation_tempTopP_towels.csv, column TopP=0.5|Temperature=1: 0.2115\n",
      "Information loss for data/ablation_tempTopP_towels.csv, column TopP=1|Temperature=1: 0.2577\n",
      "Information loss for data/ablation_tempTopP_towels.csv, column TopP=0|Temperature=2: 0.2028\n",
      "Information loss for data/ablation_tempTopP_towels.csv, column TopP=0.5|Temperature=2: 0.2389\n",
      "Information loss for data/ablation_tempTopP_towels.csv, column Human-50-v1: 0.1979\n",
      "Information loss for data/ablation_tempTopP_towels.csv, column Human-50-v2: 0.1943\n",
      "Information loss for data/ablation_tempTopP_time.csv, column TopP=0|Temperature=0: 0.2216\n",
      "Information loss for data/ablation_tempTopP_time.csv, column TopP=0.5|Temperature=0: 0.2299\n",
      "Information loss for data/ablation_tempTopP_time.csv, column TopP=1|Temperature=0: 0.2085\n",
      "Information loss for data/ablation_tempTopP_time.csv, column TopP=0|Temperature=1: 0.2468\n",
      "Information loss for data/ablation_tempTopP_time.csv, column TopP=0.5|Temperature=1: 0.2337\n",
      "Information loss for data/ablation_tempTopP_time.csv, column TopP=1|Temperature=1: 0.2771\n",
      "Information loss for data/ablation_tempTopP_time.csv, column TopP=0|Temperature=2: 0.2334\n",
      "Information loss for data/ablation_tempTopP_time.csv, column TopP=0.5|Temperature=2: 0.2231\n",
      "Information loss for data/ablation_tempTopP_time.csv, column Human-50-1v: 0.2375\n",
      "Information loss for data/ablation_tempTopP_time.csv, column Human-50-2v: 0.2463\n",
      "Information loss for data/ablation_tempTopP_powder.csv, column TopP=0|Temperature=0: 0.2552\n",
      "Information loss for data/ablation_tempTopP_powder.csv, column TopP=0.5|Temperature=0: 0.2475\n",
      "Information loss for data/ablation_tempTopP_powder.csv, column TopP=1|Temperature=0: 0.2415\n",
      "Information loss for data/ablation_tempTopP_powder.csv, column TopP=0|Temperature=1: 0.2505\n",
      "Information loss for data/ablation_tempTopP_powder.csv, column TopP=0.5|Temperature=1: 0.2287\n",
      "Information loss for data/ablation_tempTopP_powder.csv, column TopP=1|Temperature=1: 0.2595\n",
      "Information loss for data/ablation_tempTopP_powder.csv, column TopP=0|Temperature=2: 0.2607\n",
      "Information loss for data/ablation_tempTopP_powder.csv, column TopP=0.5|Temperature=2: 0.2449\n",
      "Information loss for data/ablation_tempTopP_powder.csv, column Human-50-v1: 0.2332\n",
      "Information loss for data/ablation_tempTopP_powder.csv, column Human-50-v2: 0.2413\n",
      "Information loss for data/ablation_tempTopP_exercise.csv, column TopP=0|Temperature=0: 0.2048\n",
      "Information loss for data/ablation_tempTopP_exercise.csv, column TopP=0.5|Temperature=0: 0.1911\n",
      "Information loss for data/ablation_tempTopP_exercise.csv, column TopP=1|Temperature=0: 0.1992\n",
      "Information loss for data/ablation_tempTopP_exercise.csv, column TopP=0|Temperature=1: 0.2112\n",
      "Information loss for data/ablation_tempTopP_exercise.csv, column TopP=0.5|Temperature=1: 0.2275\n",
      "Information loss for data/ablation_tempTopP_exercise.csv, column TopP=1|Temperature=1: 0.2509\n",
      "Information loss for data/ablation_tempTopP_exercise.csv, column TopP=0|Temperature=2: 0.2019\n",
      "Information loss for data/ablation_tempTopP_exercise.csv, column TopP=0.5|Temperature=2: 0.2242\n",
      "Information loss for data/ablation_tempTopP_exercise.csv, column Human-50-1v: 0.2388\n",
      "Information loss for data/ablation_tempTopP_exercise.csv, column Human-50-2v: 0.2584\n",
      "Information loss for data/ablation_topic_towels.csv, column zero-shot: 0.2577\n",
      "Information loss for data/ablation_topic_towels.csv, column few-shot: 0.2629\n",
      "Information loss for data/ablation_topic_towels.csv, column novel: 0.2466\n",
      "Information loss for data/ablation_topic_towels.csv, column unique: 0.2428\n",
      "Information loss for data/ablation_topic_towels.csv, column creative: 0.2603\n",
      "Information loss for data/ablation_topic_towels.csv, column diverse: 0.2573\n",
      "Information loss for data/ablation_topic_towels.csv, column critique-critique: 0.2599\n",
      "Information loss for data/ablation_topic_towels.csv, column design-expert: 0.2355\n",
      "Information loss for data/ablation_topic_towels.csv, column farfetched: 0.2513\n",
      "Information loss for data/ablation_topic_towels.csv, column human-1: 0.1993\n",
      "Information loss for data/ablation_topic_towels.csv, column human-2: 0.1912\n",
      "Information loss for data/ablation_topic_powder.csv, column zero-shot: 0.2595\n",
      "Information loss for data/ablation_topic_powder.csv, column few-shot: 0.2363\n",
      "Information loss for data/ablation_topic_powder.csv, column novel: 0.2581\n",
      "Information loss for data/ablation_topic_powder.csv, column unique: 0.2589\n",
      "Information loss for data/ablation_topic_powder.csv, column creative: 0.2684\n",
      "Information loss for data/ablation_topic_powder.csv, column diverse: 0.2562\n",
      "Information loss for data/ablation_topic_powder.csv, column critique-critique: 0.2631\n",
      "Information loss for data/ablation_topic_powder.csv, column design-expert: 0.2496\n",
      "Information loss for data/ablation_topic_powder.csv, column farfetched: 0.2698\n",
      "Information loss for data/ablation_topic_powder.csv, column human-1: 0.2332\n",
      "Information loss for data/ablation_topic_powder.csv, column human-2: 0.2413\n",
      "Information loss for data/ablation_topic_time.csv, column zero-shot: 0.2771\n",
      "Information loss for data/ablation_topic_time.csv, column few-shot: 0.2768\n",
      "Information loss for data/ablation_topic_time.csv, column novel: 0.2662\n",
      "Information loss for data/ablation_topic_time.csv, column unique: 0.2486\n",
      "Information loss for data/ablation_topic_time.csv, column creative: 0.2635\n",
      "Information loss for data/ablation_topic_time.csv, column diverse: 0.2514\n",
      "Information loss for data/ablation_topic_time.csv, column critique-critique: 0.2828\n",
      "Information loss for data/ablation_topic_time.csv, column design-expert: 0.2729\n",
      "Information loss for data/ablation_topic_time.csv, column farfetched: 0.2668\n",
      "Information loss for data/ablation_topic_time.csv, column human-1: 0.2375\n",
      "Information loss for data/ablation_topic_time.csv, column human-2: 0.2463\n",
      "Information loss for data/ablation_topic_exercise.csv, column zero-shot: 0.2469\n",
      "Information loss for data/ablation_topic_exercise.csv, column few-shot: 0.2513\n",
      "Information loss for data/ablation_topic_exercise.csv, column novel: 0.2485\n",
      "Information loss for data/ablation_topic_exercise.csv, column unique: 0.2444\n",
      "Information loss for data/ablation_topic_exercise.csv, column creative: 0.2528\n",
      "Information loss for data/ablation_topic_exercise.csv, column diverse: 0.2585\n",
      "Information loss for data/ablation_topic_exercise.csv, column critique-critique: 0.2787\n",
      "Information loss for data/ablation_topic_exercise.csv, column design-expert: 0.2503\n",
      "Information loss for data/ablation_topic_exercise.csv, column farfetched: 0.2673\n",
      "Information loss for data/ablation_topic_exercise.csv, column human-1: 0.2372\n",
      "Information loss for data/ablation_topic_exercise.csv, column human-2: 0.2519\n",
      "Information loss for data/ablation_topic_froth.csv, column zero-shot: 0.2576\n",
      "Information loss for data/ablation_topic_froth.csv, column few-shot: 0.2522\n",
      "Information loss for data/ablation_topic_froth.csv, column novel: 0.2687\n",
      "Information loss for data/ablation_topic_froth.csv, column unique: 0.2526\n",
      "Information loss for data/ablation_topic_froth.csv, column creative: 0.2657\n",
      "Information loss for data/ablation_topic_froth.csv, column diverse: 0.2739\n",
      "Information loss for data/ablation_topic_froth.csv, column critique-critique: 0.2501\n",
      "Information loss for data/ablation_topic_froth.csv, column design-expert: 0.2492\n",
      "Information loss for data/ablation_topic_froth.csv, column farfetched: 0.2594\n",
      "Information loss for data/ablation_topic_froth.csv, column human-1: 0.2386\n",
      "Information loss for data/ablation_topic_froth.csv, column human-2: 0.2194\n"
     ]
    }
   ],
   "source": [
    "for (file, column), loss in information_loss_results_20.items():\n",
    "    print(f'Information loss for {file}, column {column}: {loss:.4f}')"
   ]
  },
  {
   "cell_type": "code",
   "execution_count": 19,
   "id": "dd59c5e3",
   "metadata": {},
   "outputs": [
    {
     "name": "stdout",
     "output_type": "stream",
     "text": [
      "\n",
      "Average information loss for n=13: 0.3866\n",
      "Median information loss for n=13: 0.3918\n"
     ]
    }
   ],
   "source": [
    "# average information loss for n=13 dimension\n",
    "loss_values = list(information_loss_results_13.values())\n",
    "average_loss = np.mean(loss_values)\n",
    "median_loss = np.median(loss_values)\n",
    "\n",
    "print(f'\\nAverage information loss for n=13: {average_loss:.4f}')\n",
    "print(f'Median information loss for n=13: {median_loss:.4f}')"
   ]
  },
  {
   "cell_type": "code",
   "execution_count": 20,
   "id": "cedf96e0",
   "metadata": {},
   "outputs": [
    {
     "name": "stdout",
     "output_type": "stream",
     "text": [
      "\n",
      "Average information loss for n=20: 0.2424\n",
      "Median information loss for n=20: 0.2469\n"
     ]
    }
   ],
   "source": [
    "# average information loss for n=20 dimension\n",
    "loss_values = list(information_loss_results_20.values())\n",
    "average_loss = np.mean(loss_values)\n",
    "median_loss = np.median(loss_values)\n",
    "\n",
    "print(f'\\nAverage information loss for n=20: {average_loss:.4f}')\n",
    "print(f'Median information loss for n=20: {median_loss:.4f}')"
   ]
  },
  {
   "cell_type": "code",
   "execution_count": null,
   "id": "3b323277",
   "metadata": {},
   "outputs": [],
   "source": []
  }
 ],
 "metadata": {
  "kernelspec": {
   "display_name": "Python [conda env:research]",
   "language": "python",
   "name": "conda-env-research-py"
  },
  "language_info": {
   "codemirror_mode": {
    "name": "ipython",
    "version": 3
   },
   "file_extension": ".py",
   "mimetype": "text/x-python",
   "name": "python",
   "nbconvert_exporter": "python",
   "pygments_lexer": "ipython3",
   "version": "3.10.10"
  }
 },
 "nbformat": 4,
 "nbformat_minor": 5
}
