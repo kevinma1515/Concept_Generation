{
 "cells": [
  {
   "cell_type": "code",
   "execution_count": 1,
   "id": "1bf56cfd",
   "metadata": {},
   "outputs": [],
   "source": [
    "import numpy as np\n",
    "from scipy.stats import spearmanr"
   ]
  },
  {
   "cell_type": "markdown",
   "id": "2d1993fc",
   "metadata": {},
   "source": [
    "In this notebook, I calculated the variance and correlation across each of the design topics + average scores. This will help verify some of the validity of the claims I made in the paper.\n",
    "\n",
    "Here, I use the Spearman's correlation to calculate correlation between the two sets of data. The reason why is because of its emphasis on identifying monotonic relationships between two sets of data. In the context of my question, I am interested in whether the trends (i.e., the direction of changes, regardless to the exact values) across rows are similar between datasets. Additionally, we note that Spearman's correlation is statistically dependent on the ranking of the two variables (i.e. 3.5, 5.1, 2.6, 7.3 would be ranked as 2, 3, 1, and 4). \n",
    "\n",
    "Note, a spearman correlation close to 1 or -1 indicates a strong positive or negative trend correlation, respectively. Close to 0 indicate no correlation.\n",
    "We note that the sample size is quite small, but that is not a big deal. We are just trying to indicate strength of correlation. "
   ]
  },
  {
   "cell_type": "code",
   "execution_count": 2,
   "id": "104f4119",
   "metadata": {},
   "outputs": [],
   "source": [
    "def calculate_spearman_correlation(data_a, data_b):\n",
    "    correlations = []\n",
    "    for row_a, row_b in zip(data_a, data_b):\n",
    "        corr, p_value = spearmanr(row_a, row_b)\n",
    "        correlations.append((corr, p_value))\n",
    "    return correlations"
   ]
  },
  {
   "cell_type": "markdown",
   "id": "6e0c4914",
   "metadata": {},
   "source": [
    "## RQ1"
   ]
  },
  {
   "cell_type": "code",
   "execution_count": 12,
   "id": "9d566adc",
   "metadata": {},
   "outputs": [],
   "source": [
    "# For RQ 1 (Temp/Top-P comparison)\n",
    "\n",
    "# DPP\n",
    "data_dpp = [\n",
    "[-24, -25, -24, -25, -19, -8, -22, -24, 0, 0],\n",
    "[-48, -42, -69, -48, -41, -20, -46, -33, 2, 0],\n",
    "[-27, -27, -42, -30, -40, -20, -53, -43, 0, 0],\n",
    "[-36, -25, -41, -22, -30, -5, -20, -50, 0, 0],\n",
    "[-26, -28, -23, -16, -14, -6, -23, -14, -6, 0]\n",
    "]\n",
    "\n",
    "# Nearest Generated Distance\n",
    "data_ngd = [\n",
    "    [-18, -19, -19, -21, -20, -12, -15, -21, -2, 0],\n",
    "    [-38, -38, -48, -36, -33, -24, -35, -31, 3, 0],\n",
    "    [-14, -14, -20, -18, -23, -16, -30, -22, 1, 0],\n",
    "    [-26, -18, -27, -17, -19, -7, -16, -34, 0, 0],\n",
    "    [-9, -8, -7, -4, -5, -4, -7, -5, -2, 0]\n",
    "]\n",
    "\n",
    "# Convex Hull\n",
    "data_ch = [\n",
    "    [-94, -94, -94, -96, -97, -88, -87, -97, -34, 0],\n",
    "    [-100, -100, -100, -100, -100, -98, -100, -100, 26, 0],\n",
    "    [-93, -91, -96, -96, -98, -95, -99, -97, -12, 0],\n",
    "    [-99, -96, -99, -94, -96, -72, -94, -100, 32, 0],\n",
    "    [-74, -68, -67, -37, -57, -46, -66, -63, -19, 0]\n",
    "]\n",
    "\n",
    "# Centroid Distance\n",
    "data_cd = [\n",
    "    [-17, -18, -18, -21, -22, -12, -12, -21, -3, 0],\n",
    "    [-38, -40, -48, -36, -33, -27, -34, -33, 2, 0],\n",
    "    [-12, -13, -17, -18, -22, -17, -30, -21, 1, 0],\n",
    "    [-26, -18, -27, -16, -18, -8, -17, -34, 1, 0],\n",
    "    [-5, -4, -3, -1, -3, -3, -3, -3, -1, 0]\n",
    "]"
   ]
  },
  {
   "cell_type": "code",
   "execution_count": 13,
   "id": "8f11543e",
   "metadata": {},
   "outputs": [
    {
     "name": "stdout",
     "output_type": "stream",
     "text": [
      "Row 1: Spearman Correlation = 0.770, P-value = 0.009\n",
      "Row 2: Spearman Correlation = 0.942, P-value = 0.000\n",
      "Row 3: Spearman Correlation = 0.924, P-value = 0.000\n",
      "Row 4: Spearman Correlation = 1.000, P-value = 0.000\n",
      "Row 5: Spearman Correlation = 0.929, P-value = 0.000\n"
     ]
    }
   ],
   "source": [
    "# DPP vs NGD\n",
    "results = calculate_spearman_correlation(data_dpp, data_ngd)\n",
    "for i, (corr, p_value) in enumerate(results, start=1):\n",
    "    print(f\"Row {i}: Spearman Correlation = {corr:.3f}, P-value = {p_value:.3f}\")"
   ]
  },
  {
   "cell_type": "code",
   "execution_count": 14,
   "id": "1b524d36",
   "metadata": {},
   "outputs": [
    {
     "name": "stdout",
     "output_type": "stream",
     "text": [
      "Row 1: Spearman Correlation = 0.633, P-value = 0.049\n",
      "Row 2: Spearman Correlation = 0.815, P-value = 0.004\n",
      "Row 3: Spearman Correlation = 0.911, P-value = 0.000\n",
      "Row 4: Spearman Correlation = 0.988, P-value = 0.000\n",
      "Row 5: Spearman Correlation = 0.899, P-value = 0.000\n"
     ]
    }
   ],
   "source": [
    "# DPP vs CH\n",
    "results  = calculate_spearman_correlation(data_dpp, data_ch)\n",
    "for i, (corr, p_value) in enumerate(results, start=1):\n",
    "    print(f\"Row {i}: Spearman Correlation = {corr:.3f}, P-value = {p_value:.3f}\")"
   ]
  },
  {
   "cell_type": "code",
   "execution_count": 15,
   "id": "6795338a",
   "metadata": {},
   "outputs": [
    {
     "name": "stdout",
     "output_type": "stream",
     "text": [
      "Row 1: Spearman Correlation = 0.654, P-value = 0.040\n",
      "Row 2: Spearman Correlation = 0.921, P-value = 0.000\n",
      "Row 3: Spearman Correlation = 0.869, P-value = 0.001\n",
      "Row 4: Spearman Correlation = 0.982, P-value = 0.000\n",
      "Row 5: Spearman Correlation = 0.769, P-value = 0.009\n"
     ]
    }
   ],
   "source": [
    "# DPP vs CD\n",
    "results  = calculate_spearman_correlation(data_dpp, data_cd)\n",
    "for i, (corr, p_value) in enumerate(results, start=1):\n",
    "    print(f\"Row {i}: Spearman Correlation = {corr:.3f}, P-value = {p_value:.3f}\")"
   ]
  },
  {
   "cell_type": "code",
   "execution_count": 16,
   "id": "522dce71",
   "metadata": {},
   "outputs": [
    {
     "name": "stdout",
     "output_type": "stream",
     "text": [
      "Row 1: Spearman Correlation = 0.951, P-value = 0.000\n",
      "Row 2: Spearman Correlation = 0.815, P-value = 0.004\n",
      "Row 3: Spearman Correlation = 0.982, P-value = 0.000\n",
      "Row 4: Spearman Correlation = 0.988, P-value = 0.000\n",
      "Row 5: Spearman Correlation = 0.991, P-value = 0.000\n"
     ]
    }
   ],
   "source": [
    "# NGD vs CH\n",
    "results  = calculate_spearman_correlation(data_ngd, data_ch)\n",
    "for i, (corr, p_value) in enumerate(results, start=1):\n",
    "    print(f\"Row {i}: Spearman Correlation = {corr:.3f}, P-value = {p_value:.3f}\")"
   ]
  },
  {
   "cell_type": "code",
   "execution_count": 17,
   "id": "2f533298",
   "metadata": {},
   "outputs": [
    {
     "name": "stdout",
     "output_type": "stream",
     "text": [
      "Row 1: Spearman Correlation = 0.960, P-value = 0.000\n",
      "Row 2: Spearman Correlation = 0.994, P-value = 0.000\n",
      "Row 3: Spearman Correlation = 0.976, P-value = 0.000\n",
      "Row 4: Spearman Correlation = 0.982, P-value = 0.000\n",
      "Row 5: Spearman Correlation = 0.920, P-value = 0.000\n"
     ]
    }
   ],
   "source": [
    "# NGD vs CD\n",
    "results  = calculate_spearman_correlation(data_ngd, data_cd)\n",
    "for i, (corr, p_value) in enumerate(results, start=1):\n",
    "    print(f\"Row {i}: Spearman Correlation = {corr:.3f}, P-value = {p_value:.3f}\")"
   ]
  },
  {
   "cell_type": "code",
   "execution_count": 18,
   "id": "9ff3eef1",
   "metadata": {},
   "outputs": [
    {
     "name": "stdout",
     "output_type": "stream",
     "text": [
      "Row 1: Spearman Correlation = 0.978, P-value = 0.000\n",
      "Row 2: Spearman Correlation = 0.815, P-value = 0.004\n",
      "Row 3: Spearman Correlation = 0.966, P-value = 0.000\n",
      "Row 4: Spearman Correlation = 0.994, P-value = 0.000\n",
      "Row 5: Spearman Correlation = 0.934, P-value = 0.000\n"
     ]
    }
   ],
   "source": [
    "# CD vs CH\n",
    "results  = calculate_spearman_correlation(data_cd, data_ch)\n",
    "for i, (corr, p_value) in enumerate(results, start=1):\n",
    "    print(f\"Row {i}: Spearman Correlation = {corr:.3f}, P-value = {p_value:.3f}\")"
   ]
  },
  {
   "cell_type": "markdown",
   "id": "2fc0c8d1",
   "metadata": {},
   "source": [
    "## RQ2"
   ]
  },
  {
   "cell_type": "code",
   "execution_count": 12,
   "id": "16db5d9b",
   "metadata": {},
   "outputs": [],
   "source": [
    "# RQ2\n",
    "\n",
    "# DPP Calculations\n",
    "data_dpp = [\n",
    "    [-7, -7, -4, -10, -6, -7, -3, -3, 1, -4, 0],\n",
    "    [-5, -16, -10, -10, -5,-7, -14, 0, 4, 0, 0],\n",
    "    [-20, -8, -13, -16, -21, -19, -22, -25, -14, 0, 0],\n",
    "    [-8, -10, -6, -8, -7, -4, -5, -8, -5, 0, 0],\n",
    "    [-22, -10, -14, -25, -3, -20, -22, -3, -1, 1, 0]\n",
    "]\n",
    "\n",
    "\n",
    "# Nearest Generated Sample\n",
    "data_ngd = [\n",
    "    [-4, -4, -3, -6, -4, -6, -2, -4, -1, -2, 0],\n",
    "    [-7, -11, -10, -10, -7, -7, -12, -4, 1, 0, 0],\n",
    "    [-16, -9, -11, -11, -16, -14, -17, -18, -13, 1, 0],\n",
    "    [-12, -13, -12, -11, -12, -10, -9, -11, -9, -2, 0],\n",
    "    [-25, -16, -19, -26, -11, -24,  -23, -10, -9, 1, 0]\n",
    "]\n",
    "# Convex Hull\n",
    "data_ch = [\n",
    "    [-46, -51, -51, -57, -57, -63, -41, -61, -51, -18, 0],\n",
    "    [-72, -84, -77, -80, -77, -72, -85, -54, -27, 32, 0],\n",
    "    [-95, -84, -86, -86, -95, -91, -95, -96, -92, -12, 0],\n",
    "    [-88, -87, -87, -86, -90, -81, -79, -78, -80, -34, 0],\n",
    "    [-99, -95, -96, -99, -88, -99, -98, -90, -86, -6, 0]\n",
    "]\n",
    "# Centroid Distance\n",
    "data_cd = [\n",
    "    [-4, -4, -2, -5, -4, -5, -1, -5, -3, -1, 0],\n",
    "    [-8, -10, -10, -11, -8, -7, -12, -5, 0, 1, 0],\n",
    "    [-17, -10, -11, -11, -16, -13, -18, -19, -15, 1, 0],\n",
    "    [-12, -14, -13, -11, -14, -12, -12, -10, -9, -3, 0],\n",
    "    [-28, -20, -21, -28, -14, -26, -25, -12, -12, 1, 0]\n",
    "]"
   ]
  },
  {
   "cell_type": "code",
   "execution_count": 15,
   "id": "3751ac9f",
   "metadata": {},
   "outputs": [
    {
     "name": "stdout",
     "output_type": "stream",
     "text": [
      "Row 1 (exercise): Spearman Correlation = 0.860, P-value = 0.001\n",
      "Row 2 (powder): Spearman Correlation = 0.977, P-value = 0.000\n",
      "Row 3 (time): Spearman Correlation = 0.979, P-value = 0.000\n",
      "Row 4 (froth): Spearman Correlation = 0.850, P-value = 0.001\n",
      "Row 5 (towels): Spearman Correlation = 0.982, P-value = 0.000\n"
     ]
    }
   ],
   "source": [
    "# DPP vs NGD\n",
    "results = calculate_spearman_correlation(data_dpp, data_ngd)\n",
    "topic = ['exercise', 'powder', 'time', 'froth', 'towels']\n",
    "for i, (corr, p_value) in enumerate(results, start=1):\n",
    "    word = topic[i-1]  # Get the corresponding word from the topic list\n",
    "    print(f\"Row {i} ({word}): Spearman Correlation = {corr:.3f}, P-value = {p_value:.3f}\")"
   ]
  },
  {
   "cell_type": "code",
   "execution_count": 16,
   "id": "4d631597",
   "metadata": {},
   "outputs": [
    {
     "name": "stdout",
     "output_type": "stream",
     "text": [
      "Row 1 (exercise): Spearman Correlation = 0.406, P-value = 0.216\n",
      "Row 2 (powder): Spearman Correlation = 0.910, P-value = 0.000\n",
      "Row 3 (time): Spearman Correlation = 0.954, P-value = 0.000\n",
      "Row 4 (froth): Spearman Correlation = 0.633, P-value = 0.037\n",
      "Row 5 (towels): Spearman Correlation = 0.954, P-value = 0.000\n"
     ]
    }
   ],
   "source": [
    "# DPP vs CH\n",
    "results  = calculate_spearman_correlation(data_dpp, data_ch)\n",
    "for i, (corr, p_value) in enumerate(results, start=1):\n",
    "    word = topic[i-1]  # Get the corresponding word from the topic list\n",
    "    print(f\"Row {i} ({word}): Spearman Correlation = {corr:.3f}, P-value = {p_value:.3f}\")"
   ]
  },
  {
   "cell_type": "code",
   "execution_count": 17,
   "id": "886c2775",
   "metadata": {},
   "outputs": [
    {
     "name": "stdout",
     "output_type": "stream",
     "text": [
      "Row 1 (exercise): Spearman Correlation = 0.616, P-value = 0.043\n",
      "Row 2 (powder): Spearman Correlation = 0.893, P-value = 0.000\n",
      "Row 3 (time): Spearman Correlation = 0.954, P-value = 0.000\n",
      "Row 4 (froth): Spearman Correlation = 0.573, P-value = 0.065\n",
      "Row 5 (towels): Spearman Correlation = 0.972, P-value = 0.000\n"
     ]
    }
   ],
   "source": [
    "# DPP vs CD\n",
    "results  = calculate_spearman_correlation(data_dpp, data_cd)\n",
    "for i, (corr, p_value) in enumerate(results, start=1):\n",
    "    word = topic[i-1]  # Get the corresponding word from the topic list\n",
    "    print(f\"Row {i} ({word}): Spearman Correlation = {corr:.3f}, P-value = {p_value:.3f}\")"
   ]
  },
  {
   "cell_type": "code",
   "execution_count": 18,
   "id": "58d49c89",
   "metadata": {},
   "outputs": [
    {
     "name": "stdout",
     "output_type": "stream",
     "text": [
      "Row 1 (exercise): Spearman Correlation = 0.785, P-value = 0.004\n",
      "Row 2 (powder): Spearman Correlation = 0.951, P-value = 0.000\n",
      "Row 3 (time): Spearman Correlation = 0.975, P-value = 0.000\n",
      "Row 4 (froth): Spearman Correlation = 0.873, P-value = 0.000\n",
      "Row 5 (towels): Spearman Correlation = 0.973, P-value = 0.000\n"
     ]
    }
   ],
   "source": [
    "# NGD vs CH\n",
    "results  = calculate_spearman_correlation(data_ngd, data_ch)\n",
    "for i, (corr, p_value) in enumerate(results, start=1):\n",
    "    word = topic[i-1]  # Get the corresponding word from the topic list\n",
    "    print(f\"Row {i} ({word}): Spearman Correlation = {corr:.3f}, P-value = {p_value:.3f}\")"
   ]
  },
  {
   "cell_type": "code",
   "execution_count": 19,
   "id": "6e4b485e",
   "metadata": {},
   "outputs": [
    {
     "name": "stdout",
     "output_type": "stream",
     "text": [
      "Row 1 (exercise): Spearman Correlation = 0.907, P-value = 0.000\n",
      "Row 2 (powder): Spearman Correlation = 0.951, P-value = 0.000\n",
      "Row 3 (time): Spearman Correlation = 0.989, P-value = 0.000\n",
      "Row 4 (froth): Spearman Correlation = 0.853, P-value = 0.001\n",
      "Row 5 (towels): Spearman Correlation = 0.995, P-value = 0.000\n"
     ]
    }
   ],
   "source": [
    "# NGD vs CD\n",
    "results  = calculate_spearman_correlation(data_ngd, data_cd)\n",
    "for i, (corr, p_value) in enumerate(results, start=1):\n",
    "    word = topic[i-1]  # Get the corresponding word from the topic list\n",
    "    print(f\"Row {i} ({word}): Spearman Correlation = {corr:.3f}, P-value = {p_value:.3f}\")"
   ]
  },
  {
   "cell_type": "code",
   "execution_count": 20,
   "id": "e5aec5b2",
   "metadata": {},
   "outputs": [
    {
     "name": "stdout",
     "output_type": "stream",
     "text": [
      "Row 1 (exercise): Spearman Correlation = 0.901, P-value = 0.000\n",
      "Row 2 (powder): Spearman Correlation = 0.968, P-value = 0.000\n",
      "Row 3 (time): Spearman Correlation = 0.982, P-value = 0.000\n",
      "Row 4 (froth): Spearman Correlation = 0.850, P-value = 0.001\n",
      "Row 5 (towels): Spearman Correlation = 0.968, P-value = 0.000\n"
     ]
    }
   ],
   "source": [
    "# CD vs CH\n",
    "results  = calculate_spearman_correlation(data_cd, data_ch)\n",
    "for i, (corr, p_value) in enumerate(results, start=1):\n",
    "    word = topic[i-1]  # Get the corresponding word from the topic list\n",
    "    print(f\"Row {i} ({word}): Spearman Correlation = {corr:.3f}, P-value = {p_value:.3f}\")"
   ]
  },
  {
   "cell_type": "code",
   "execution_count": null,
   "id": "9a18c005",
   "metadata": {},
   "outputs": [],
   "source": []
  }
 ],
 "metadata": {
  "kernelspec": {
   "display_name": "Python [conda env:research]",
   "language": "python",
   "name": "conda-env-research-py"
  },
  "language_info": {
   "codemirror_mode": {
    "name": "ipython",
    "version": 3
   },
   "file_extension": ".py",
   "mimetype": "text/x-python",
   "name": "python",
   "nbconvert_exporter": "python",
   "pygments_lexer": "ipython3",
   "version": "3.10.10"
  }
 },
 "nbformat": 4,
 "nbformat_minor": 5
}
